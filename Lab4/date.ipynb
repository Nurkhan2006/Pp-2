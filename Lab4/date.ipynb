{
 "cells": [
  {
   "cell_type": "code",
   "execution_count": 1,
   "metadata": {},
   "outputs": [
    {
     "name": "stdout",
     "output_type": "stream",
     "text": [
      "2025-03-10\n",
      "2025-03-05\n"
     ]
    }
   ],
   "source": [
    "#task1\n",
    "from datetime import datetime, timedelta\n",
    "\n",
    "current_date = datetime.today()\n",
    "new_date = current_date - timedelta(days=5)\n",
    "print(current_date.strftime(\"%Y-%m-%d\"))\n",
    "print(new_date.strftime(\"%Y-%m-%d\"))"
   ]
  },
  {
   "cell_type": "code",
   "execution_count": 2,
   "metadata": {},
   "outputs": [
    {
     "name": "stdout",
     "output_type": "stream",
     "text": [
      "Yesterday: 2025-03-09\n",
      "Today: 2025-03-10\n",
      "Tomorrow: 2025-03-11\n"
     ]
    }
   ],
   "source": [
    "#task2\n",
    "from datetime import datetime, timedelta\n",
    "\n",
    "today = datetime.today()\n",
    "yesterday = today - timedelta(days=1)\n",
    "tomorrow = today + timedelta(days=1)\n",
    "\n",
    "print(\"Yesterday:\", yesterday.strftime(\"%Y-%m-%d\"))\n",
    "print(\"Today:\", today.strftime(\"%Y-%m-%d\"))\n",
    "print(\"Tomorrow:\", tomorrow.strftime(\"%Y-%m-%d\"))"
   ]
  },
  {
   "cell_type": "code",
   "execution_count": 3,
   "metadata": {},
   "outputs": [
    {
     "name": "stdout",
     "output_type": "stream",
     "text": [
      "2025-03-10 05:20:56\n"
     ]
    }
   ],
   "source": [
    "#task3\n",
    "from datetime import datetime\n",
    "\n",
    "current_time = datetime.now().replace(microsecond=0)\n",
    "print(current_time)"
   ]
  },
  {
   "cell_type": "code",
   "execution_count": 4,
   "metadata": {},
   "outputs": [
    {
     "name": "stdout",
     "output_type": "stream",
     "text": [
      "184485.0\n"
     ]
    }
   ],
   "source": [
    "#task4\n",
    "from datetime import datetime\n",
    "\n",
    "date1 = datetime(2024, 2, 10, 12, 30, 45)  \n",
    "date2 = datetime(2024, 2, 12, 15, 45, 30)  \n",
    "difference = abs((date2 - date1).total_seconds())\n",
    "print(difference)"
   ]
  }
 ],
 "metadata": {
  "kernelspec": {
   "display_name": "Python 3",
   "language": "python",
   "name": "python3"
  },
  "language_info": {
   "codemirror_mode": {
    "name": "ipython",
    "version": 3
   },
   "file_extension": ".py",
   "mimetype": "text/x-python",
   "name": "python",
   "nbconvert_exporter": "python",
   "pygments_lexer": "ipython3",
   "version": "3.13.1"
  }
 },
 "nbformat": 4,
 "nbformat_minor": 2
}
