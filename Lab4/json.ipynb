{
 "cells": [
  {
   "cell_type": "code",
   "execution_count": 16,
   "metadata": {},
   "outputs": [
    {
     "name": "stdout",
     "output_type": "stream",
     "text": [
      "Interface Status\n",
      "================================================================================\n",
      "DN                                                 Description           Speed    MTU  \n",
      "-------------------------------------------------- --------------------  ------  ------\n",
      "eth1/1                                            Uplink1                10G     1500  \n",
      "\n"
     ]
    }
   ],
   "source": [
    "import json\n",
    "\n",
    "with open(\"sample-data.json\", \"r\") as openfile:\n",
    "    data = json.load(openfile)\n",
    "\n",
    "s = \"\"\"Interface Status\n",
    "================================================================================\n",
    "DN                                                 Description           Speed    MTU  \n",
    "-------------------------------------------------- --------------------  ------  ------\n",
    "\"\"\"\n",
    "\n",
    "for i in data[\"imdata\"]:\n",
    "    attributes = i[\"l1PhysIf\"][\"attributes\"]\n",
    "    dn = attributes.get(\"dn\", \"N/A\").ljust(50)\n",
    "    descr = attributes.get(\"descr\", \"N/A\").ljust(23)\n",
    "    speed = attributes.get(\"speed\", \"N/A\").ljust(8)\n",
    "    mtu = attributes.get(\"mtu\", \"N/A\").ljust(6)\n",
    "\n",
    "    s += f\"{dn}{descr}{speed}{mtu}\\n\"\n",
    "\n",
    "print(s)"
   ]
  }
 ],
 "metadata": {
  "language_info": {
   "name": "python"
  }
 },
 "nbformat": 4,
 "nbformat_minor": 2
}
